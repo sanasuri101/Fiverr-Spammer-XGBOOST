{
 "cells": [
  {
   "cell_type": "code",
   "execution_count": 1,
   "id": "b8eba518",
   "metadata": {
    "_cell_guid": "b1076dfc-b9ad-4769-8c92-a6c4dae69d19",
    "_uuid": "8f2839f25d086af736a60e9eeb907d3b93b6e0e5",
    "execution": {
     "iopub.execute_input": "2022-09-05T05:10:49.751693Z",
     "iopub.status.busy": "2022-09-05T05:10:49.751190Z",
     "iopub.status.idle": "2022-09-05T05:10:49.766769Z",
     "shell.execute_reply": "2022-09-05T05:10:49.765489Z"
    },
    "papermill": {
     "duration": 0.026883,
     "end_time": "2022-09-05T05:10:49.769600",
     "exception": false,
     "start_time": "2022-09-05T05:10:49.742717",
     "status": "completed"
    },
    "tags": []
   },
   "outputs": [
    {
     "name": "stdout",
     "output_type": "stream",
     "text": [
      "/kaggle/input/predict-potential-spammers-on-fiverr/sample_submission.csv\n",
      "/kaggle/input/predict-potential-spammers-on-fiverr/train.csv\n",
      "/kaggle/input/predict-potential-spammers-on-fiverr/test.csv\n"
     ]
    }
   ],
   "source": [
    "# This Python 3 environment comes with many helpful analytics libraries installed\n",
    "# It is defined by the kaggle/python Docker image: https://github.com/kaggle/docker-python\n",
    "# For example, here's several helpful packages to load\n",
    "\n",
    "import numpy as np # linear algebra\n",
    "import pandas as pd # data processing, CSV file I/O (e.g. pd.read_csv)\n",
    "\n",
    "# Input data files are available in the read-only \"../input/\" directory\n",
    "# For example, running this (by clicking run or pressing Shift+Enter) will list all files under the input directory\n",
    "\n",
    "import os\n",
    "for dirname, _, filenames in os.walk('/kaggle/input'):\n",
    "    for filename in filenames:\n",
    "        print(os.path.join(dirname, filename))\n",
    "\n",
    "# You can write up to 20GB to the current directory (/kaggle/working/) that gets preserved as output when you create a version using \"Save & Run All\" \n",
    "# You can also write temporary files to /kaggle/temp/, but they won't be saved outside of the current session"
   ]
  },
  {
   "cell_type": "code",
   "execution_count": 2,
   "id": "725d71b4",
   "metadata": {
    "execution": {
     "iopub.execute_input": "2022-09-05T05:10:49.782009Z",
     "iopub.status.busy": "2022-09-05T05:10:49.781224Z",
     "iopub.status.idle": "2022-09-05T05:10:50.781488Z",
     "shell.execute_reply": "2022-09-05T05:10:50.780249Z"
    },
    "papermill": {
     "duration": 1.009418,
     "end_time": "2022-09-05T05:10:50.784626",
     "exception": false,
     "start_time": "2022-09-05T05:10:49.775208",
     "status": "completed"
    },
    "tags": []
   },
   "outputs": [],
   "source": [
    "from sklearn import metrics\n",
    "from sklearn.model_selection import RandomizedSearchCV, GridSearchCV\n",
    "import xgboost as xgb\n"
   ]
  },
  {
   "cell_type": "code",
   "execution_count": 3,
   "id": "a1da0841",
   "metadata": {
    "execution": {
     "iopub.execute_input": "2022-09-05T05:10:50.805954Z",
     "iopub.status.busy": "2022-09-05T05:10:50.805575Z",
     "iopub.status.idle": "2022-09-05T05:10:52.869651Z",
     "shell.execute_reply": "2022-09-05T05:10:52.868681Z"
    },
    "papermill": {
     "duration": 2.079906,
     "end_time": "2022-09-05T05:10:52.871678",
     "exception": false,
     "start_time": "2022-09-05T05:10:50.791772",
     "status": "completed"
    },
    "tags": []
   },
   "outputs": [
    {
     "data": {
      "text/plain": [
       "0    446477\n",
       "1     12321\n",
       "Name: label, dtype: int64"
      ]
     },
     "execution_count": 3,
     "metadata": {},
     "output_type": "execute_result"
    }
   ],
   "source": [
    "train = pd.read_csv('/kaggle/input/predict-potential-spammers-on-fiverr/train.csv')\n",
    "test = pd.read_csv('/kaggle/input/predict-potential-spammers-on-fiverr/test.csv')\n",
    "train.label.value_counts()"
   ]
  },
  {
   "cell_type": "code",
   "execution_count": 4,
   "id": "49d938a8",
   "metadata": {
    "execution": {
     "iopub.execute_input": "2022-09-05T05:10:52.889370Z",
     "iopub.status.busy": "2022-09-05T05:10:52.889023Z",
     "iopub.status.idle": "2022-09-05T05:10:52.894440Z",
     "shell.execute_reply": "2022-09-05T05:10:52.893526Z"
    },
    "papermill": {
     "duration": 0.017667,
     "end_time": "2022-09-05T05:10:52.897096",
     "exception": false,
     "start_time": "2022-09-05T05:10:52.879429",
     "status": "completed"
    },
    "tags": []
   },
   "outputs": [
    {
     "name": "stdout",
     "output_type": "stream",
     "text": [
      "Dimensions of train data : (458798, 53)\n",
      "Dimensions of test data : (24148, 52)\n"
     ]
    }
   ],
   "source": [
    "print(f\"Dimensions of train data : {train.shape}\")\n",
    "print(f\"Dimensions of test data : {test.shape}\")"
   ]
  },
  {
   "cell_type": "code",
   "execution_count": 5,
   "id": "6e92e24d",
   "metadata": {
    "execution": {
     "iopub.execute_input": "2022-09-05T05:10:52.914483Z",
     "iopub.status.busy": "2022-09-05T05:10:52.914160Z",
     "iopub.status.idle": "2022-09-05T05:10:53.096642Z",
     "shell.execute_reply": "2022-09-05T05:10:53.095726Z"
    },
    "papermill": {
     "duration": 0.193644,
     "end_time": "2022-09-05T05:10:53.098887",
     "exception": false,
     "start_time": "2022-09-05T05:10:52.905243",
     "status": "completed"
    },
    "tags": []
   },
   "outputs": [
    {
     "name": "stdout",
     "output_type": "stream",
     "text": [
      "X27\n",
      "X29\n",
      "X30\n",
      "X33\n",
      "X46\n",
      "X47\n",
      "X48\n"
     ]
    }
   ],
   "source": [
    "features = [feature for feature in train if feature.startswith('X')]\n",
    "# print(features)\n",
    "for feat in features:\n",
    "    if (train[feat].nunique() == 1):\n",
    "        print(feat)"
   ]
  },
  {
   "cell_type": "code",
   "execution_count": 6,
   "id": "57dfa79a",
   "metadata": {
    "execution": {
     "iopub.execute_input": "2022-09-05T05:10:53.113204Z",
     "iopub.status.busy": "2022-09-05T05:10:53.111199Z",
     "iopub.status.idle": "2022-09-05T05:10:53.296025Z",
     "shell.execute_reply": "2022-09-05T05:10:53.295024Z"
    },
    "papermill": {
     "duration": 0.193481,
     "end_time": "2022-09-05T05:10:53.298203",
     "exception": false,
     "start_time": "2022-09-05T05:10:53.104722",
     "status": "completed"
    },
    "tags": []
   },
   "outputs": [
    {
     "data": {
      "text/plain": [
       "(458798, 46)"
      ]
     },
     "execution_count": 6,
     "metadata": {},
     "output_type": "execute_result"
    }
   ],
   "source": [
    "constant_columns = list()\n",
    "for feat in features:\n",
    "    if (train[feat].nunique() == 1):\n",
    "        constant_columns.append(feat)\n",
    "train.drop(columns = constant_columns, inplace = True)\n",
    "train.shape"
   ]
  },
  {
   "cell_type": "code",
   "execution_count": 7,
   "id": "d17aac5f",
   "metadata": {
    "execution": {
     "iopub.execute_input": "2022-09-05T05:10:53.311621Z",
     "iopub.status.busy": "2022-09-05T05:10:53.310966Z",
     "iopub.status.idle": "2022-09-05T05:10:53.322891Z",
     "shell.execute_reply": "2022-09-05T05:10:53.321994Z"
    },
    "papermill": {
     "duration": 0.020739,
     "end_time": "2022-09-05T05:10:53.324827",
     "exception": false,
     "start_time": "2022-09-05T05:10:53.304088",
     "status": "completed"
    },
    "tags": []
   },
   "outputs": [
    {
     "data": {
      "text/plain": [
       "0"
      ]
     },
     "execution_count": 7,
     "metadata": {},
     "output_type": "execute_result"
    }
   ],
   "source": [
    "train['X13'].fillna(value = round(train['X13'].mean()), inplace = True)\n",
    "train.X13.isna().sum()\n"
   ]
  },
  {
   "cell_type": "code",
   "execution_count": 8,
   "id": "2b03aa58",
   "metadata": {
    "execution": {
     "iopub.execute_input": "2022-09-05T05:10:53.338107Z",
     "iopub.status.busy": "2022-09-05T05:10:53.337826Z",
     "iopub.status.idle": "2022-09-05T05:10:53.346333Z",
     "shell.execute_reply": "2022-09-05T05:10:53.345426Z"
    },
    "papermill": {
     "duration": 0.017882,
     "end_time": "2022-09-05T05:10:53.348654",
     "exception": false,
     "start_time": "2022-09-05T05:10:53.330772",
     "status": "completed"
    },
    "tags": []
   },
   "outputs": [
    {
     "data": {
      "text/plain": [
       "((458798, 46), (24148, 45))"
      ]
     },
     "execution_count": 8,
     "metadata": {},
     "output_type": "execute_result"
    }
   ],
   "source": [
    "test.drop(columns = constant_columns, inplace=True)\n",
    "train.shape, test.shape"
   ]
  },
  {
   "cell_type": "code",
   "execution_count": 9,
   "id": "cfd867b8",
   "metadata": {
    "execution": {
     "iopub.execute_input": "2022-09-05T05:10:53.361401Z",
     "iopub.status.busy": "2022-09-05T05:10:53.361150Z",
     "iopub.status.idle": "2022-09-05T05:10:53.431826Z",
     "shell.execute_reply": "2022-09-05T05:10:53.430862Z"
    },
    "papermill": {
     "duration": 0.079433,
     "end_time": "2022-09-05T05:10:53.433926",
     "exception": false,
     "start_time": "2022-09-05T05:10:53.354493",
     "status": "completed"
    },
    "tags": []
   },
   "outputs": [
    {
     "data": {
      "text/html": [
       "<div>\n",
       "<style scoped>\n",
       "    .dataframe tbody tr th:only-of-type {\n",
       "        vertical-align: middle;\n",
       "    }\n",
       "\n",
       "    .dataframe tbody tr th {\n",
       "        vertical-align: top;\n",
       "    }\n",
       "\n",
       "    .dataframe thead th {\n",
       "        text-align: right;\n",
       "    }\n",
       "</style>\n",
       "<table border=\"1\" class=\"dataframe\">\n",
       "  <thead>\n",
       "    <tr style=\"text-align: right;\">\n",
       "      <th></th>\n",
       "      <th>label</th>\n",
       "      <th>X1</th>\n",
       "      <th>X2</th>\n",
       "      <th>X3</th>\n",
       "      <th>X4</th>\n",
       "      <th>X5</th>\n",
       "      <th>X6</th>\n",
       "      <th>X7</th>\n",
       "      <th>X8</th>\n",
       "      <th>X9</th>\n",
       "      <th>...</th>\n",
       "      <th>X39</th>\n",
       "      <th>X40</th>\n",
       "      <th>X41</th>\n",
       "      <th>X42</th>\n",
       "      <th>X43</th>\n",
       "      <th>X44</th>\n",
       "      <th>X45</th>\n",
       "      <th>X49</th>\n",
       "      <th>X50</th>\n",
       "      <th>X51</th>\n",
       "    </tr>\n",
       "  </thead>\n",
       "  <tbody>\n",
       "    <tr>\n",
       "      <th>0</th>\n",
       "      <td>0</td>\n",
       "      <td>20972</td>\n",
       "      <td>14</td>\n",
       "      <td>13</td>\n",
       "      <td>3</td>\n",
       "      <td>11</td>\n",
       "      <td>1</td>\n",
       "      <td>2</td>\n",
       "      <td>15</td>\n",
       "      <td>26</td>\n",
       "      <td>...</td>\n",
       "      <td>0</td>\n",
       "      <td>0</td>\n",
       "      <td>0</td>\n",
       "      <td>0</td>\n",
       "      <td>0</td>\n",
       "      <td>0</td>\n",
       "      <td>0</td>\n",
       "      <td>0</td>\n",
       "      <td>1</td>\n",
       "      <td>0</td>\n",
       "    </tr>\n",
       "    <tr>\n",
       "      <th>1</th>\n",
       "      <td>0</td>\n",
       "      <td>7362</td>\n",
       "      <td>213</td>\n",
       "      <td>71</td>\n",
       "      <td>3</td>\n",
       "      <td>11</td>\n",
       "      <td>1</td>\n",
       "      <td>2</td>\n",
       "      <td>15</td>\n",
       "      <td>26</td>\n",
       "      <td>...</td>\n",
       "      <td>0</td>\n",
       "      <td>0</td>\n",
       "      <td>0</td>\n",
       "      <td>0</td>\n",
       "      <td>0</td>\n",
       "      <td>0</td>\n",
       "      <td>0</td>\n",
       "      <td>0</td>\n",
       "      <td>0</td>\n",
       "      <td>0</td>\n",
       "    </tr>\n",
       "    <tr>\n",
       "      <th>2</th>\n",
       "      <td>0</td>\n",
       "      <td>21216</td>\n",
       "      <td>215</td>\n",
       "      <td>71</td>\n",
       "      <td>3</td>\n",
       "      <td>11</td>\n",
       "      <td>1</td>\n",
       "      <td>2</td>\n",
       "      <td>15</td>\n",
       "      <td>14</td>\n",
       "      <td>...</td>\n",
       "      <td>0</td>\n",
       "      <td>0</td>\n",
       "      <td>0</td>\n",
       "      <td>0</td>\n",
       "      <td>0</td>\n",
       "      <td>0</td>\n",
       "      <td>0</td>\n",
       "      <td>0</td>\n",
       "      <td>0</td>\n",
       "      <td>0</td>\n",
       "    </tr>\n",
       "    <tr>\n",
       "      <th>3</th>\n",
       "      <td>0</td>\n",
       "      <td>2261</td>\n",
       "      <td>212</td>\n",
       "      <td>71</td>\n",
       "      <td>2</td>\n",
       "      <td>8</td>\n",
       "      <td>1</td>\n",
       "      <td>2</td>\n",
       "      <td>15</td>\n",
       "      <td>14</td>\n",
       "      <td>...</td>\n",
       "      <td>0</td>\n",
       "      <td>0</td>\n",
       "      <td>0</td>\n",
       "      <td>0</td>\n",
       "      <td>0</td>\n",
       "      <td>0</td>\n",
       "      <td>0</td>\n",
       "      <td>1</td>\n",
       "      <td>0</td>\n",
       "      <td>0</td>\n",
       "    </tr>\n",
       "    <tr>\n",
       "      <th>4</th>\n",
       "      <td>0</td>\n",
       "      <td>4543</td>\n",
       "      <td>213</td>\n",
       "      <td>71</td>\n",
       "      <td>2</td>\n",
       "      <td>8</td>\n",
       "      <td>1</td>\n",
       "      <td>2</td>\n",
       "      <td>15</td>\n",
       "      <td>14</td>\n",
       "      <td>...</td>\n",
       "      <td>0</td>\n",
       "      <td>0</td>\n",
       "      <td>0</td>\n",
       "      <td>0</td>\n",
       "      <td>0</td>\n",
       "      <td>0</td>\n",
       "      <td>0</td>\n",
       "      <td>0</td>\n",
       "      <td>0</td>\n",
       "      <td>0</td>\n",
       "    </tr>\n",
       "  </tbody>\n",
       "</table>\n",
       "<p>5 rows × 45 columns</p>\n",
       "</div>"
      ],
      "text/plain": [
       "   label     X1   X2  X3  X4  X5  X6  X7  X8  X9  ...  X39  X40  X41  X42  \\\n",
       "0      0  20972   14  13   3  11   1   2  15  26  ...    0    0    0    0   \n",
       "1      0   7362  213  71   3  11   1   2  15  26  ...    0    0    0    0   \n",
       "2      0  21216  215  71   3  11   1   2  15  14  ...    0    0    0    0   \n",
       "3      0   2261  212  71   2   8   1   2  15  14  ...    0    0    0    0   \n",
       "4      0   4543  213  71   2   8   1   2  15  14  ...    0    0    0    0   \n",
       "\n",
       "   X43  X44  X45  X49  X50  X51  \n",
       "0    0    0    0    0    1    0  \n",
       "1    0    0    0    0    0    0  \n",
       "2    0    0    0    0    0    0  \n",
       "3    0    0    0    1    0    0  \n",
       "4    0    0    0    0    0    0  \n",
       "\n",
       "[5 rows x 45 columns]"
      ]
     },
     "execution_count": 9,
     "metadata": {},
     "output_type": "execute_result"
    }
   ],
   "source": [
    "train = train.drop(columns = ['user_id'])\n",
    "test = test.drop(columns = ['user_id'])\n",
    "train.head()"
   ]
  },
  {
   "cell_type": "code",
   "execution_count": 10,
   "id": "ac27c0a7",
   "metadata": {
    "execution": {
     "iopub.execute_input": "2022-09-05T05:10:53.449063Z",
     "iopub.status.busy": "2022-09-05T05:10:53.448735Z",
     "iopub.status.idle": "2022-09-05T05:10:53.504199Z",
     "shell.execute_reply": "2022-09-05T05:10:53.502990Z"
    },
    "papermill": {
     "duration": 0.065779,
     "end_time": "2022-09-05T05:10:53.506501",
     "exception": false,
     "start_time": "2022-09-05T05:10:53.440722",
     "status": "completed"
    },
    "tags": []
   },
   "outputs": [],
   "source": [
    "X = train.drop(columns = ['label'])\n",
    "y = train[['label']]\n"
   ]
  },
  {
   "cell_type": "code",
   "execution_count": 11,
   "id": "714eff39",
   "metadata": {
    "execution": {
     "iopub.execute_input": "2022-09-05T05:10:53.520026Z",
     "iopub.status.busy": "2022-09-05T05:10:53.519709Z",
     "iopub.status.idle": "2022-09-05T05:10:53.738565Z",
     "shell.execute_reply": "2022-09-05T05:10:53.737571Z"
    },
    "papermill": {
     "duration": 0.228205,
     "end_time": "2022-09-05T05:10:53.740871",
     "exception": false,
     "start_time": "2022-09-05T05:10:53.512666",
     "status": "completed"
    },
    "tags": []
   },
   "outputs": [
    {
     "data": {
      "text/plain": [
       "((321158, 44), (137640, 44), (321158, 1), (137640, 1))"
      ]
     },
     "execution_count": 11,
     "metadata": {},
     "output_type": "execute_result"
    }
   ],
   "source": [
    "from sklearn.model_selection import train_test_split\n",
    "\n",
    "X_train, X_valid, y_train, y_valid = train_test_split(X, y, test_size = 0.3)\n",
    "X_train.shape, X_valid.shape, y_train.shape, y_valid.shape\n"
   ]
  },
  {
   "cell_type": "code",
   "execution_count": 12,
   "id": "ffd8d50b",
   "metadata": {
    "execution": {
     "iopub.execute_input": "2022-09-05T05:10:53.754649Z",
     "iopub.status.busy": "2022-09-05T05:10:53.754316Z",
     "iopub.status.idle": "2022-09-05T05:10:53.759819Z",
     "shell.execute_reply": "2022-09-05T05:10:53.758959Z"
    },
    "papermill": {
     "duration": 0.014639,
     "end_time": "2022-09-05T05:10:53.761863",
     "exception": false,
     "start_time": "2022-09-05T05:10:53.747224",
     "status": "completed"
    },
    "tags": []
   },
   "outputs": [],
   "source": [
    "model_xgb = xgb.XGBClassifier(n_estimators = 700)\n"
   ]
  },
  {
   "cell_type": "code",
   "execution_count": 13,
   "id": "9f0d5dbd",
   "metadata": {
    "execution": {
     "iopub.execute_input": "2022-09-05T05:10:53.774960Z",
     "iopub.status.busy": "2022-09-05T05:10:53.774693Z",
     "iopub.status.idle": "2022-09-05T05:12:16.189656Z",
     "shell.execute_reply": "2022-09-05T05:12:16.188719Z"
    },
    "papermill": {
     "duration": 82.425474,
     "end_time": "2022-09-05T05:12:16.193314",
     "exception": false,
     "start_time": "2022-09-05T05:10:53.767840",
     "status": "completed"
    },
    "tags": []
   },
   "outputs": [
    {
     "name": "stderr",
     "output_type": "stream",
     "text": [
      "/opt/conda/lib/python3.7/site-packages/xgboost/sklearn.py:797: UserWarning: `early_stopping_rounds` in `fit` method is deprecated for better compatibility with scikit-learn, use `early_stopping_rounds` in constructor or`set_params` instead.\n",
      "  UserWarning,\n"
     ]
    },
    {
     "name": "stdout",
     "output_type": "stream",
     "text": [
      "XGBClassifier(base_score=0.5, booster='gbtree', callbacks=None,\n",
      "              colsample_bylevel=1, colsample_bynode=1, colsample_bytree=1,\n",
      "              early_stopping_rounds=None, enable_categorical=False,\n",
      "              eval_metric=None, gamma=0, gpu_id=-1, grow_policy='depthwise',\n",
      "              importance_type=None, interaction_constraints='',\n",
      "              learning_rate=0.300000012, max_bin=256, max_cat_to_onehot=4,\n",
      "              max_delta_step=0, max_depth=6, max_leaves=0, min_child_weight=1,\n",
      "              missing=nan, monotone_constraints='()', n_estimators=700,\n",
      "              n_jobs=0, num_parallel_tree=1, predictor='auto', random_state=0,\n",
      "              reg_alpha=0, reg_lambda=1, ...)\n"
     ]
    }
   ],
   "source": [
    "model_xgb.fit(X_train, y_train, \n",
    "            early_stopping_rounds=5, \n",
    "             eval_set=[(X_valid, y_valid)], \n",
    "             verbose=False)\n",
    "print(model_xgb)"
   ]
  },
  {
   "cell_type": "code",
   "execution_count": 14,
   "id": "7e17e8ab",
   "metadata": {
    "execution": {
     "iopub.execute_input": "2022-09-05T05:12:16.207447Z",
     "iopub.status.busy": "2022-09-05T05:12:16.207132Z",
     "iopub.status.idle": "2022-09-05T05:12:16.214031Z",
     "shell.execute_reply": "2022-09-05T05:12:16.213020Z"
    },
    "papermill": {
     "duration": 0.016221,
     "end_time": "2022-09-05T05:12:16.216004",
     "exception": false,
     "start_time": "2022-09-05T05:12:16.199783",
     "status": "completed"
    },
    "tags": []
   },
   "outputs": [],
   "source": [
    "model_xgb_tuned = xgb.XGBClassifier(base_score=0.5, booster='gbtree', callbacks=None,\n",
    "              colsample_bylevel=1, colsample_bynode=1, colsample_bytree=1,\n",
    "              early_stopping_rounds=None, enable_categorical=False,\n",
    "              eval_metric=None, gamma=0, gpu_id=-1, grow_policy='depthwise',\n",
    "              importance_type=None, interaction_constraints='',\n",
    "              learning_rate=0.300000012, max_bin=256, max_cat_to_onehot=4,\n",
    "              max_delta_step=0, max_depth=6, max_leaves=0, min_child_weight=1,\n",
    "              monotone_constraints='()', n_estimators=700,\n",
    "              n_jobs=0, num_parallel_tree=1, predictor='auto', random_state=0,\n",
    "              reg_alpha=0, reg_lambda=1)\n",
    "\n",
    "\n",
    "# model = xgb.XGBClassifier(max_depth = 8, learning_rate=0.22,n_estimators=250,subsample = 0.95,reg_alpha = 0.3, reg_lambda = 0.95, gamma = 0.1)\n",
    "\n",
    "# XGBClassifier(max_depth = 8,\n",
    "#                                 learning_rate=0.22,\n",
    "#                                 n_estimators=250,\n",
    "#                                 reg_alpha = 0.35,\n",
    "#                                 reg_lambda = 0.95,\n",
    "#                                 gamma = 0.1))"
   ]
  },
  {
   "cell_type": "code",
   "execution_count": 15,
   "id": "3ba2d7c5",
   "metadata": {
    "execution": {
     "iopub.execute_input": "2022-09-05T05:12:16.229891Z",
     "iopub.status.busy": "2022-09-05T05:12:16.229164Z",
     "iopub.status.idle": "2022-09-05T05:22:22.046571Z",
     "shell.execute_reply": "2022-09-05T05:22:22.045526Z"
    },
    "papermill": {
     "duration": 605.833629,
     "end_time": "2022-09-05T05:22:22.055699",
     "exception": false,
     "start_time": "2022-09-05T05:12:16.222070",
     "status": "completed"
    },
    "tags": []
   },
   "outputs": [
    {
     "name": "stdout",
     "output_type": "stream",
     "text": [
      "XGBClassifier(base_score=0.5, booster='gbtree', callbacks=None,\n",
      "              colsample_bylevel=1, colsample_bynode=1, colsample_bytree=1,\n",
      "              early_stopping_rounds=None, enable_categorical=False,\n",
      "              eval_metric=None, gamma=0, gpu_id=-1, grow_policy='depthwise',\n",
      "              importance_type=None, interaction_constraints='',\n",
      "              learning_rate=0.300000012, max_bin=256, max_cat_to_onehot=4,\n",
      "              max_delta_step=0, max_depth=6, max_leaves=0, min_child_weight=1,\n",
      "              missing=nan, monotone_constraints='()', n_estimators=700,\n",
      "              n_jobs=0, num_parallel_tree=1, predictor='auto', random_state=0,\n",
      "              reg_alpha=0, reg_lambda=1, ...)\n"
     ]
    }
   ],
   "source": [
    "model_xgb_tuned.fit(X, y,\n",
    "             verbose=False)\n",
    "print(model_xgb)"
   ]
  },
  {
   "cell_type": "code",
   "execution_count": 16,
   "id": "59f2045f",
   "metadata": {
    "execution": {
     "iopub.execute_input": "2022-09-05T05:22:22.069777Z",
     "iopub.status.busy": "2022-09-05T05:22:22.069477Z",
     "iopub.status.idle": "2022-09-05T05:22:29.240637Z",
     "shell.execute_reply": "2022-09-05T05:22:29.238274Z"
    },
    "papermill": {
     "duration": 7.180595,
     "end_time": "2022-09-05T05:22:29.242808",
     "exception": false,
     "start_time": "2022-09-05T05:22:22.062213",
     "status": "completed"
    },
    "tags": []
   },
   "outputs": [
    {
     "name": "stdout",
     "output_type": "stream",
     "text": [
      "              precision    recall  f1-score   support\n",
      "\n",
      "           0       1.00      1.00      1.00    446477\n",
      "           1       0.96      0.84      0.90     12321\n",
      "\n",
      "    accuracy                           0.99    458798\n",
      "   macro avg       0.98      0.92      0.95    458798\n",
      "weighted avg       0.99      0.99      0.99    458798\n",
      "\n",
      "[[446039    438]\n",
      " [  1971  10350]]\n"
     ]
    }
   ],
   "source": [
    "predictions_train = model_xgb_tuned.predict(X)\n",
    "print(metrics.classification_report(y, predictions_train))\n",
    "print(metrics.confusion_matrix(y, predictions_train))"
   ]
  },
  {
   "cell_type": "code",
   "execution_count": 17,
   "id": "cbf2c9d4",
   "metadata": {
    "execution": {
     "iopub.execute_input": "2022-09-05T05:22:29.257786Z",
     "iopub.status.busy": "2022-09-05T05:22:29.257025Z",
     "iopub.status.idle": "2022-09-05T05:22:29.286875Z",
     "shell.execute_reply": "2022-09-05T05:22:29.285969Z"
    },
    "papermill": {
     "duration": 0.039364,
     "end_time": "2022-09-05T05:22:29.288855",
     "exception": false,
     "start_time": "2022-09-05T05:22:29.249491",
     "status": "completed"
    },
    "tags": []
   },
   "outputs": [
    {
     "data": {
      "text/html": [
       "<div>\n",
       "<style scoped>\n",
       "    .dataframe tbody tr th:only-of-type {\n",
       "        vertical-align: middle;\n",
       "    }\n",
       "\n",
       "    .dataframe tbody tr th {\n",
       "        vertical-align: top;\n",
       "    }\n",
       "\n",
       "    .dataframe thead th {\n",
       "        text-align: right;\n",
       "    }\n",
       "</style>\n",
       "<table border=\"1\" class=\"dataframe\">\n",
       "  <thead>\n",
       "    <tr style=\"text-align: right;\">\n",
       "      <th></th>\n",
       "      <th>user_id</th>\n",
       "      <th>label</th>\n",
       "    </tr>\n",
       "  </thead>\n",
       "  <tbody>\n",
       "    <tr>\n",
       "      <th>0</th>\n",
       "      <td>57</td>\n",
       "      <td>0</td>\n",
       "    </tr>\n",
       "    <tr>\n",
       "      <th>1</th>\n",
       "      <td>58</td>\n",
       "      <td>0</td>\n",
       "    </tr>\n",
       "    <tr>\n",
       "      <th>2</th>\n",
       "      <td>59</td>\n",
       "      <td>0</td>\n",
       "    </tr>\n",
       "    <tr>\n",
       "      <th>3</th>\n",
       "      <td>60</td>\n",
       "      <td>0</td>\n",
       "    </tr>\n",
       "    <tr>\n",
       "      <th>4</th>\n",
       "      <td>61</td>\n",
       "      <td>0</td>\n",
       "    </tr>\n",
       "  </tbody>\n",
       "</table>\n",
       "</div>"
      ],
      "text/plain": [
       "   user_id  label\n",
       "0       57      0\n",
       "1       58      0\n",
       "2       59      0\n",
       "3       60      0\n",
       "4       61      0"
      ]
     },
     "execution_count": 17,
     "metadata": {},
     "output_type": "execute_result"
    }
   ],
   "source": [
    "submission = pd.read_csv('/kaggle/input/predict-potential-spammers-on-fiverr/sample_submission.csv')\n",
    "submission.head()"
   ]
  },
  {
   "cell_type": "code",
   "execution_count": 18,
   "id": "dbe429f1",
   "metadata": {
    "execution": {
     "iopub.execute_input": "2022-09-05T05:22:29.304747Z",
     "iopub.status.busy": "2022-09-05T05:22:29.303250Z",
     "iopub.status.idle": "2022-09-05T05:22:29.596279Z",
     "shell.execute_reply": "2022-09-05T05:22:29.595529Z"
    },
    "papermill": {
     "duration": 0.303061,
     "end_time": "2022-09-05T05:22:29.598428",
     "exception": false,
     "start_time": "2022-09-05T05:22:29.295367",
     "status": "completed"
    },
    "tags": []
   },
   "outputs": [
    {
     "data": {
      "text/plain": [
       "array([0, 0, 0, ..., 0, 0, 0])"
      ]
     },
     "execution_count": 18,
     "metadata": {},
     "output_type": "execute_result"
    }
   ],
   "source": [
    "predictions = model_xgb_tuned.predict(test)\n",
    "predictions"
   ]
  },
  {
   "cell_type": "code",
   "execution_count": 19,
   "id": "1027afaa",
   "metadata": {
    "execution": {
     "iopub.execute_input": "2022-09-05T05:22:29.615230Z",
     "iopub.status.busy": "2022-09-05T05:22:29.614926Z",
     "iopub.status.idle": "2022-09-05T05:22:29.623695Z",
     "shell.execute_reply": "2022-09-05T05:22:29.622755Z"
    },
    "papermill": {
     "duration": 0.018614,
     "end_time": "2022-09-05T05:22:29.625630",
     "exception": false,
     "start_time": "2022-09-05T05:22:29.607016",
     "status": "completed"
    },
    "tags": []
   },
   "outputs": [
    {
     "data": {
      "text/plain": [
       "0    23176\n",
       "1      972\n",
       "Name: prediction, dtype: int64"
      ]
     },
     "execution_count": 19,
     "metadata": {},
     "output_type": "execute_result"
    }
   ],
   "source": [
    "submission.label = predictions\n",
    "submission.columns = ['user_id', 'prediction']\n",
    "submission.prediction.value_counts()"
   ]
  },
  {
   "cell_type": "code",
   "execution_count": 20,
   "id": "72a5a336",
   "metadata": {
    "execution": {
     "iopub.execute_input": "2022-09-05T05:22:29.640221Z",
     "iopub.status.busy": "2022-09-05T05:22:29.639604Z",
     "iopub.status.idle": "2022-09-05T05:22:29.666670Z",
     "shell.execute_reply": "2022-09-05T05:22:29.665864Z"
    },
    "papermill": {
     "duration": 0.03623,
     "end_time": "2022-09-05T05:22:29.668557",
     "exception": false,
     "start_time": "2022-09-05T05:22:29.632327",
     "status": "completed"
    },
    "tags": []
   },
   "outputs": [],
   "source": [
    "submission.to_csv('submission.csv', index = False)"
   ]
  },
  {
   "cell_type": "code",
   "execution_count": 21,
   "id": "24d81e7c",
   "metadata": {
    "execution": {
     "iopub.execute_input": "2022-09-05T05:22:29.682604Z",
     "iopub.status.busy": "2022-09-05T05:22:29.682354Z",
     "iopub.status.idle": "2022-09-05T05:22:29.686101Z",
     "shell.execute_reply": "2022-09-05T05:22:29.685175Z"
    },
    "papermill": {
     "duration": 0.012912,
     "end_time": "2022-09-05T05:22:29.688021",
     "exception": false,
     "start_time": "2022-09-05T05:22:29.675109",
     "status": "completed"
    },
    "tags": []
   },
   "outputs": [],
   "source": [
    "# model.fit(X, y)\n",
    "# print(model)"
   ]
  },
  {
   "cell_type": "code",
   "execution_count": 22,
   "id": "7af2e23e",
   "metadata": {
    "execution": {
     "iopub.execute_input": "2022-09-05T05:22:29.702318Z",
     "iopub.status.busy": "2022-09-05T05:22:29.701800Z",
     "iopub.status.idle": "2022-09-05T05:22:29.706760Z",
     "shell.execute_reply": "2022-09-05T05:22:29.705977Z"
    },
    "papermill": {
     "duration": 0.014137,
     "end_time": "2022-09-05T05:22:29.708620",
     "exception": false,
     "start_time": "2022-09-05T05:22:29.694483",
     "status": "completed"
    },
    "tags": []
   },
   "outputs": [],
   "source": [
    "# predictions = model.predict(test)\n",
    "# np.unique(predictions, return_counts=True)"
   ]
  },
  {
   "cell_type": "code",
   "execution_count": 23,
   "id": "360ffaf4",
   "metadata": {
    "execution": {
     "iopub.execute_input": "2022-09-05T05:22:29.722874Z",
     "iopub.status.busy": "2022-09-05T05:22:29.722623Z",
     "iopub.status.idle": "2022-09-05T05:22:29.726303Z",
     "shell.execute_reply": "2022-09-05T05:22:29.725425Z"
    },
    "papermill": {
     "duration": 0.013213,
     "end_time": "2022-09-05T05:22:29.728375",
     "exception": false,
     "start_time": "2022-09-05T05:22:29.715162",
     "status": "completed"
    },
    "tags": []
   },
   "outputs": [],
   "source": [
    "# predictions_train = model.predict(X)\n",
    "# print(metrics.classification_report(y, predictions_train))\n",
    "# print(metrics.confusion_matrix(y, predictions_train))"
   ]
  },
  {
   "cell_type": "code",
   "execution_count": 24,
   "id": "cee04f2e",
   "metadata": {
    "execution": {
     "iopub.execute_input": "2022-09-05T05:22:29.743109Z",
     "iopub.status.busy": "2022-09-05T05:22:29.742365Z",
     "iopub.status.idle": "2022-09-05T05:22:29.746152Z",
     "shell.execute_reply": "2022-09-05T05:22:29.745210Z"
    },
    "papermill": {
     "duration": 0.012834,
     "end_time": "2022-09-05T05:22:29.748049",
     "exception": false,
     "start_time": "2022-09-05T05:22:29.735215",
     "status": "completed"
    },
    "tags": []
   },
   "outputs": [],
   "source": [
    "# submission = pd.read_csv('/kaggle/input/predict-potential-spammers-on-fiverr/sample_submission.csv')\n",
    "# submission.head()"
   ]
  },
  {
   "cell_type": "code",
   "execution_count": 25,
   "id": "89292e29",
   "metadata": {
    "execution": {
     "iopub.execute_input": "2022-09-05T05:22:29.762715Z",
     "iopub.status.busy": "2022-09-05T05:22:29.761878Z",
     "iopub.status.idle": "2022-09-05T05:22:29.765868Z",
     "shell.execute_reply": "2022-09-05T05:22:29.765026Z"
    },
    "papermill": {
     "duration": 0.013379,
     "end_time": "2022-09-05T05:22:29.767845",
     "exception": false,
     "start_time": "2022-09-05T05:22:29.754466",
     "status": "completed"
    },
    "tags": []
   },
   "outputs": [],
   "source": [
    "# submission.label = predictions\n",
    "# submission.columns = ['user_id', 'prediction']"
   ]
  },
  {
   "cell_type": "code",
   "execution_count": 26,
   "id": "e156588e",
   "metadata": {
    "execution": {
     "iopub.execute_input": "2022-09-05T05:22:29.782154Z",
     "iopub.status.busy": "2022-09-05T05:22:29.781428Z",
     "iopub.status.idle": "2022-09-05T05:22:29.785603Z",
     "shell.execute_reply": "2022-09-05T05:22:29.784799Z"
    },
    "papermill": {
     "duration": 0.013119,
     "end_time": "2022-09-05T05:22:29.787393",
     "exception": false,
     "start_time": "2022-09-05T05:22:29.774274",
     "status": "completed"
    },
    "tags": []
   },
   "outputs": [],
   "source": [
    "# submission.to_csv('submission.csv', index = False)"
   ]
  }
 ],
 "metadata": {
  "kernelspec": {
   "display_name": "Python 3",
   "language": "python",
   "name": "python3"
  },
  "language_info": {
   "codemirror_mode": {
    "name": "ipython",
    "version": 3
   },
   "file_extension": ".py",
   "mimetype": "text/x-python",
   "name": "python",
   "nbconvert_exporter": "python",
   "pygments_lexer": "ipython3",
   "version": "3.7.12"
  },
  "papermill": {
   "default_parameters": {},
   "duration": 709.335544,
   "end_time": "2022-09-05T05:22:31.016427",
   "environment_variables": {},
   "exception": null,
   "input_path": "__notebook__.ipynb",
   "output_path": "__notebook__.ipynb",
   "parameters": {},
   "start_time": "2022-09-05T05:10:41.680883",
   "version": "2.3.4"
  }
 },
 "nbformat": 4,
 "nbformat_minor": 5
}
