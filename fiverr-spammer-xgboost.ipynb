{
 "cells": [
  {
   "cell_type": "code",
   "execution_count": 1,
   "id": "49f39dbf",
   "metadata": {
    "_cell_guid": "b1076dfc-b9ad-4769-8c92-a6c4dae69d19",
    "_uuid": "8f2839f25d086af736a60e9eeb907d3b93b6e0e5",
    "execution": {
     "iopub.execute_input": "2022-08-04T21:28:25.016985Z",
     "iopub.status.busy": "2022-08-04T21:28:25.015734Z",
     "iopub.status.idle": "2022-08-04T21:28:25.028464Z",
     "shell.execute_reply": "2022-08-04T21:28:25.027469Z"
    },
    "papermill": {
     "duration": 0.020459,
     "end_time": "2022-08-04T21:28:25.030873",
     "exception": false,
     "start_time": "2022-08-04T21:28:25.010414",
     "status": "completed"
    },
    "tags": []
   },
   "outputs": [
    {
     "name": "stdout",
     "output_type": "stream",
     "text": [
      "/kaggle/input/predict-potential-spammers-on-fiverr/sample_submission.csv\n",
      "/kaggle/input/predict-potential-spammers-on-fiverr/train.csv\n",
      "/kaggle/input/predict-potential-spammers-on-fiverr/test.csv\n"
     ]
    }
   ],
   "source": [
    "# This Python 3 environment comes with many helpful analytics libraries installed\n",
    "# It is defined by the kaggle/python Docker image: https://github.com/kaggle/docker-python\n",
    "# For example, here's several helpful packages to load\n",
    "\n",
    "import numpy as np # linear algebra\n",
    "import pandas as pd # data processing, CSV file I/O (e.g. pd.read_csv)\n",
    "\n",
    "# Input data files are available in the read-only \"../input/\" directory\n",
    "# For example, running this (by clicking run or pressing Shift+Enter) will list all files under the input directory\n",
    "\n",
    "import os\n",
    "for dirname, _, filenames in os.walk('/kaggle/input'):\n",
    "    for filename in filenames:\n",
    "        print(os.path.join(dirname, filename))\n",
    "\n",
    "# You can write up to 20GB to the current directory (/kaggle/working/) that gets preserved as output when you create a version using \"Save & Run All\" \n",
    "# You can also write temporary files to /kaggle/temp/, but they won't be saved outside of the current session"
   ]
  },
  {
   "cell_type": "code",
   "execution_count": 2,
   "id": "42f5d6d1",
   "metadata": {
    "execution": {
     "iopub.execute_input": "2022-08-04T21:28:25.039606Z",
     "iopub.status.busy": "2022-08-04T21:28:25.039119Z",
     "iopub.status.idle": "2022-08-04T21:28:26.266577Z",
     "shell.execute_reply": "2022-08-04T21:28:26.265588Z"
    },
    "papermill": {
     "duration": 1.234153,
     "end_time": "2022-08-04T21:28:26.268764",
     "exception": false,
     "start_time": "2022-08-04T21:28:25.034611",
     "status": "completed"
    },
    "tags": []
   },
   "outputs": [],
   "source": [
    "from sklearn import metrics\n",
    "from sklearn.model_selection import RandomizedSearchCV, GridSearchCV\n",
    "import xgboost as xgb\n"
   ]
  },
  {
   "cell_type": "code",
   "execution_count": 3,
   "id": "0e39a5df",
   "metadata": {
    "execution": {
     "iopub.execute_input": "2022-08-04T21:28:26.276624Z",
     "iopub.status.busy": "2022-08-04T21:28:26.276334Z",
     "iopub.status.idle": "2022-08-04T21:28:27.946798Z",
     "shell.execute_reply": "2022-08-04T21:28:27.945889Z"
    },
    "papermill": {
     "duration": 1.676287,
     "end_time": "2022-08-04T21:28:27.948542",
     "exception": false,
     "start_time": "2022-08-04T21:28:26.272255",
     "status": "completed"
    },
    "tags": []
   },
   "outputs": [
    {
     "data": {
      "text/plain": [
       "0    446477\n",
       "1     12321\n",
       "Name: label, dtype: int64"
      ]
     },
     "execution_count": 3,
     "metadata": {},
     "output_type": "execute_result"
    }
   ],
   "source": [
    "train = pd.read_csv('/kaggle/input/predict-potential-spammers-on-fiverr/train.csv')\n",
    "test = pd.read_csv('/kaggle/input/predict-potential-spammers-on-fiverr/test.csv')\n",
    "train.label.value_counts()"
   ]
  },
  {
   "cell_type": "code",
   "execution_count": 4,
   "id": "9316643a",
   "metadata": {
    "execution": {
     "iopub.execute_input": "2022-08-04T21:28:27.957006Z",
     "iopub.status.busy": "2022-08-04T21:28:27.956250Z",
     "iopub.status.idle": "2022-08-04T21:28:27.961494Z",
     "shell.execute_reply": "2022-08-04T21:28:27.960279Z"
    },
    "papermill": {
     "duration": 0.012301,
     "end_time": "2022-08-04T21:28:27.964425",
     "exception": false,
     "start_time": "2022-08-04T21:28:27.952124",
     "status": "completed"
    },
    "tags": []
   },
   "outputs": [
    {
     "name": "stdout",
     "output_type": "stream",
     "text": [
      "Dimensions of train data : (458798, 53)\n",
      "Dimensions of test data : (24148, 52)\n"
     ]
    }
   ],
   "source": [
    "print(f\"Dimensions of train data : {train.shape}\")\n",
    "print(f\"Dimensions of test data : {test.shape}\")"
   ]
  },
  {
   "cell_type": "code",
   "execution_count": 5,
   "id": "87a45185",
   "metadata": {
    "execution": {
     "iopub.execute_input": "2022-08-04T21:28:27.973994Z",
     "iopub.status.busy": "2022-08-04T21:28:27.973707Z",
     "iopub.status.idle": "2022-08-04T21:28:28.032720Z",
     "shell.execute_reply": "2022-08-04T21:28:28.031856Z"
    },
    "papermill": {
     "duration": 0.065371,
     "end_time": "2022-08-04T21:28:28.034381",
     "exception": false,
     "start_time": "2022-08-04T21:28:27.969010",
     "status": "completed"
    },
    "tags": []
   },
   "outputs": [
    {
     "data": {
      "text/html": [
       "<div>\n",
       "<style scoped>\n",
       "    .dataframe tbody tr th:only-of-type {\n",
       "        vertical-align: middle;\n",
       "    }\n",
       "\n",
       "    .dataframe tbody tr th {\n",
       "        vertical-align: top;\n",
       "    }\n",
       "\n",
       "    .dataframe thead th {\n",
       "        text-align: right;\n",
       "    }\n",
       "</style>\n",
       "<table border=\"1\" class=\"dataframe\">\n",
       "  <thead>\n",
       "    <tr style=\"text-align: right;\">\n",
       "      <th></th>\n",
       "      <th>label</th>\n",
       "      <th>X1</th>\n",
       "      <th>X2</th>\n",
       "      <th>X3</th>\n",
       "      <th>X4</th>\n",
       "      <th>X5</th>\n",
       "      <th>X6</th>\n",
       "      <th>X7</th>\n",
       "      <th>X8</th>\n",
       "      <th>X9</th>\n",
       "      <th>...</th>\n",
       "      <th>X42</th>\n",
       "      <th>X43</th>\n",
       "      <th>X44</th>\n",
       "      <th>X45</th>\n",
       "      <th>X46</th>\n",
       "      <th>X47</th>\n",
       "      <th>X48</th>\n",
       "      <th>X49</th>\n",
       "      <th>X50</th>\n",
       "      <th>X51</th>\n",
       "    </tr>\n",
       "  </thead>\n",
       "  <tbody>\n",
       "    <tr>\n",
       "      <th>0</th>\n",
       "      <td>0</td>\n",
       "      <td>20972</td>\n",
       "      <td>14</td>\n",
       "      <td>13</td>\n",
       "      <td>3</td>\n",
       "      <td>11</td>\n",
       "      <td>1</td>\n",
       "      <td>2</td>\n",
       "      <td>15</td>\n",
       "      <td>26</td>\n",
       "      <td>...</td>\n",
       "      <td>0</td>\n",
       "      <td>0</td>\n",
       "      <td>0</td>\n",
       "      <td>0</td>\n",
       "      <td>0</td>\n",
       "      <td>0</td>\n",
       "      <td>0</td>\n",
       "      <td>0</td>\n",
       "      <td>1</td>\n",
       "      <td>0</td>\n",
       "    </tr>\n",
       "    <tr>\n",
       "      <th>1</th>\n",
       "      <td>0</td>\n",
       "      <td>7362</td>\n",
       "      <td>213</td>\n",
       "      <td>71</td>\n",
       "      <td>3</td>\n",
       "      <td>11</td>\n",
       "      <td>1</td>\n",
       "      <td>2</td>\n",
       "      <td>15</td>\n",
       "      <td>26</td>\n",
       "      <td>...</td>\n",
       "      <td>0</td>\n",
       "      <td>0</td>\n",
       "      <td>0</td>\n",
       "      <td>0</td>\n",
       "      <td>0</td>\n",
       "      <td>0</td>\n",
       "      <td>0</td>\n",
       "      <td>0</td>\n",
       "      <td>0</td>\n",
       "      <td>0</td>\n",
       "    </tr>\n",
       "    <tr>\n",
       "      <th>2</th>\n",
       "      <td>0</td>\n",
       "      <td>21216</td>\n",
       "      <td>215</td>\n",
       "      <td>71</td>\n",
       "      <td>3</td>\n",
       "      <td>11</td>\n",
       "      <td>1</td>\n",
       "      <td>2</td>\n",
       "      <td>15</td>\n",
       "      <td>14</td>\n",
       "      <td>...</td>\n",
       "      <td>0</td>\n",
       "      <td>0</td>\n",
       "      <td>0</td>\n",
       "      <td>0</td>\n",
       "      <td>0</td>\n",
       "      <td>0</td>\n",
       "      <td>0</td>\n",
       "      <td>0</td>\n",
       "      <td>0</td>\n",
       "      <td>0</td>\n",
       "    </tr>\n",
       "    <tr>\n",
       "      <th>3</th>\n",
       "      <td>0</td>\n",
       "      <td>2261</td>\n",
       "      <td>212</td>\n",
       "      <td>71</td>\n",
       "      <td>2</td>\n",
       "      <td>8</td>\n",
       "      <td>1</td>\n",
       "      <td>2</td>\n",
       "      <td>15</td>\n",
       "      <td>14</td>\n",
       "      <td>...</td>\n",
       "      <td>0</td>\n",
       "      <td>0</td>\n",
       "      <td>0</td>\n",
       "      <td>0</td>\n",
       "      <td>0</td>\n",
       "      <td>0</td>\n",
       "      <td>0</td>\n",
       "      <td>1</td>\n",
       "      <td>0</td>\n",
       "      <td>0</td>\n",
       "    </tr>\n",
       "    <tr>\n",
       "      <th>4</th>\n",
       "      <td>0</td>\n",
       "      <td>4543</td>\n",
       "      <td>213</td>\n",
       "      <td>71</td>\n",
       "      <td>2</td>\n",
       "      <td>8</td>\n",
       "      <td>1</td>\n",
       "      <td>2</td>\n",
       "      <td>15</td>\n",
       "      <td>14</td>\n",
       "      <td>...</td>\n",
       "      <td>0</td>\n",
       "      <td>0</td>\n",
       "      <td>0</td>\n",
       "      <td>0</td>\n",
       "      <td>0</td>\n",
       "      <td>0</td>\n",
       "      <td>0</td>\n",
       "      <td>0</td>\n",
       "      <td>0</td>\n",
       "      <td>0</td>\n",
       "    </tr>\n",
       "  </tbody>\n",
       "</table>\n",
       "<p>5 rows × 52 columns</p>\n",
       "</div>"
      ],
      "text/plain": [
       "   label     X1   X2  X3  X4  X5  X6  X7  X8  X9  ...  X42  X43  X44  X45  \\\n",
       "0      0  20972   14  13   3  11   1   2  15  26  ...    0    0    0    0   \n",
       "1      0   7362  213  71   3  11   1   2  15  26  ...    0    0    0    0   \n",
       "2      0  21216  215  71   3  11   1   2  15  14  ...    0    0    0    0   \n",
       "3      0   2261  212  71   2   8   1   2  15  14  ...    0    0    0    0   \n",
       "4      0   4543  213  71   2   8   1   2  15  14  ...    0    0    0    0   \n",
       "\n",
       "   X46  X47  X48  X49  X50  X51  \n",
       "0    0    0    0    0    1    0  \n",
       "1    0    0    0    0    0    0  \n",
       "2    0    0    0    0    0    0  \n",
       "3    0    0    0    1    0    0  \n",
       "4    0    0    0    0    0    0  \n",
       "\n",
       "[5 rows x 52 columns]"
      ]
     },
     "execution_count": 5,
     "metadata": {},
     "output_type": "execute_result"
    }
   ],
   "source": [
    "train = train.drop(columns = ['user_id'])\n",
    "test = test.drop(columns = ['user_id'])\n",
    "train.head()"
   ]
  },
  {
   "cell_type": "code",
   "execution_count": 6,
   "id": "a0c48907",
   "metadata": {
    "execution": {
     "iopub.execute_input": "2022-08-04T21:28:28.042758Z",
     "iopub.status.busy": "2022-08-04T21:28:28.042472Z",
     "iopub.status.idle": "2022-08-04T21:28:28.078563Z",
     "shell.execute_reply": "2022-08-04T21:28:28.077559Z"
    },
    "papermill": {
     "duration": 0.042149,
     "end_time": "2022-08-04T21:28:28.080268",
     "exception": false,
     "start_time": "2022-08-04T21:28:28.038119",
     "status": "completed"
    },
    "tags": []
   },
   "outputs": [],
   "source": [
    "X = train.drop(columns = ['label'])\n",
    "y = train[['label']]"
   ]
  },
  {
   "cell_type": "code",
   "execution_count": 7,
   "id": "2c9c19a8",
   "metadata": {
    "execution": {
     "iopub.execute_input": "2022-08-04T21:28:28.088563Z",
     "iopub.status.busy": "2022-08-04T21:28:28.088328Z",
     "iopub.status.idle": "2022-08-04T21:28:28.094663Z",
     "shell.execute_reply": "2022-08-04T21:28:28.093868Z"
    },
    "papermill": {
     "duration": 0.012503,
     "end_time": "2022-08-04T21:28:28.096593",
     "exception": false,
     "start_time": "2022-08-04T21:28:28.084090",
     "status": "completed"
    },
    "tags": []
   },
   "outputs": [],
   "source": [
    "params = { 'max_depth': [7],\n",
    "           'learning_rate': [0.01, 0.1, 0.2, 0.3],\n",
    "           'subsample': np.arange(0.5, 1.0, 0.1),\n",
    "           'colsample_bytree': np.arange(0.4, 1.0, 0.1),\n",
    "           'colsample_bylevel': np.arange(0.4, 1.0, 0.1),\n",
    "           'n_estimators': [100, 500, 1000]}\n"
   ]
  },
  {
   "cell_type": "code",
   "execution_count": 8,
   "id": "d5c38d6a",
   "metadata": {
    "execution": {
     "iopub.execute_input": "2022-08-04T21:28:28.105081Z",
     "iopub.status.busy": "2022-08-04T21:28:28.104866Z",
     "iopub.status.idle": "2022-08-04T21:28:28.109655Z",
     "shell.execute_reply": "2022-08-04T21:28:28.108723Z"
    },
    "papermill": {
     "duration": 0.010924,
     "end_time": "2022-08-04T21:28:28.111431",
     "exception": false,
     "start_time": "2022-08-04T21:28:28.100507",
     "status": "completed"
    },
    "tags": []
   },
   "outputs": [],
   "source": [
    "model = xgb.XGBClassifier(max_depth = 10, learning_rate=0.2,n_estimators=250,subsample = 0.95,reg_alpha = 0.2, reg_lambda = 0.95, gamma = 0.1)"
   ]
  },
  {
   "cell_type": "code",
   "execution_count": 9,
   "id": "03bbb72a",
   "metadata": {
    "execution": {
     "iopub.execute_input": "2022-08-04T21:28:28.120319Z",
     "iopub.status.busy": "2022-08-04T21:28:28.119994Z",
     "iopub.status.idle": "2022-08-04T21:31:51.004339Z",
     "shell.execute_reply": "2022-08-04T21:31:51.003226Z"
    },
    "papermill": {
     "duration": 202.894589,
     "end_time": "2022-08-04T21:31:51.009765",
     "exception": false,
     "start_time": "2022-08-04T21:28:28.115176",
     "status": "completed"
    },
    "tags": []
   },
   "outputs": [
    {
     "name": "stdout",
     "output_type": "stream",
     "text": [
      "XGBClassifier(base_score=0.5, booster='gbtree', callbacks=None,\n",
      "              colsample_bylevel=1, colsample_bynode=1, colsample_bytree=1,\n",
      "              early_stopping_rounds=None, enable_categorical=False,\n",
      "              eval_metric=None, gamma=0.1, gpu_id=-1, grow_policy='depthwise',\n",
      "              importance_type=None, interaction_constraints='',\n",
      "              learning_rate=0.2, max_bin=256, max_cat_to_onehot=4,\n",
      "              max_delta_step=0, max_depth=10, max_leaves=0, min_child_weight=1,\n",
      "              missing=nan, monotone_constraints='()', n_estimators=250,\n",
      "              n_jobs=0, num_parallel_tree=1, predictor='auto', random_state=0,\n",
      "              reg_alpha=0.2, reg_lambda=0.95, ...)\n"
     ]
    }
   ],
   "source": [
    "model.fit(X, y)\n",
    "print(model)"
   ]
  },
  {
   "cell_type": "code",
   "execution_count": 10,
   "id": "1943b708",
   "metadata": {
    "execution": {
     "iopub.execute_input": "2022-08-04T21:31:51.018810Z",
     "iopub.status.busy": "2022-08-04T21:31:51.018523Z",
     "iopub.status.idle": "2022-08-04T21:31:51.161531Z",
     "shell.execute_reply": "2022-08-04T21:31:51.160847Z"
    },
    "papermill": {
     "duration": 0.149794,
     "end_time": "2022-08-04T21:31:51.163375",
     "exception": false,
     "start_time": "2022-08-04T21:31:51.013581",
     "status": "completed"
    },
    "tags": []
   },
   "outputs": [
    {
     "data": {
      "text/plain": [
       "(array([0, 1]), array([23204,   944]))"
      ]
     },
     "execution_count": 10,
     "metadata": {},
     "output_type": "execute_result"
    }
   ],
   "source": [
    "predictions = model.predict(test)\n",
    "np.unique(predictions, return_counts=True)"
   ]
  },
  {
   "cell_type": "code",
   "execution_count": 11,
   "id": "314a3236",
   "metadata": {
    "execution": {
     "iopub.execute_input": "2022-08-04T21:31:51.173241Z",
     "iopub.status.busy": "2022-08-04T21:31:51.172918Z",
     "iopub.status.idle": "2022-08-04T21:31:54.050241Z",
     "shell.execute_reply": "2022-08-04T21:31:54.049209Z"
    },
    "papermill": {
     "duration": 2.88384,
     "end_time": "2022-08-04T21:31:54.051789",
     "exception": false,
     "start_time": "2022-08-04T21:31:51.167949",
     "status": "completed"
    },
    "tags": []
   },
   "outputs": [
    {
     "name": "stdout",
     "output_type": "stream",
     "text": [
      "              precision    recall  f1-score   support\n",
      "\n",
      "           0       1.00      1.00      1.00    446477\n",
      "           1       0.98      0.89      0.93     12321\n",
      "\n",
      "    accuracy                           1.00    458798\n",
      "   macro avg       0.99      0.95      0.97    458798\n",
      "weighted avg       1.00      1.00      1.00    458798\n",
      "\n",
      "[[446209    268]\n",
      " [  1336  10985]]\n"
     ]
    }
   ],
   "source": [
    "predictions_train = model.predict(X)\n",
    "print(metrics.classification_report(y, predictions_train))\n",
    "print(metrics.confusion_matrix(y, predictions_train))"
   ]
  },
  {
   "cell_type": "code",
   "execution_count": 12,
   "id": "35c28421",
   "metadata": {
    "execution": {
     "iopub.execute_input": "2022-08-04T21:31:54.062600Z",
     "iopub.status.busy": "2022-08-04T21:31:54.060799Z",
     "iopub.status.idle": "2022-08-04T21:31:54.084712Z",
     "shell.execute_reply": "2022-08-04T21:31:54.083866Z"
    },
    "papermill": {
     "duration": 0.03064,
     "end_time": "2022-08-04T21:31:54.086442",
     "exception": false,
     "start_time": "2022-08-04T21:31:54.055802",
     "status": "completed"
    },
    "tags": []
   },
   "outputs": [
    {
     "data": {
      "text/html": [
       "<div>\n",
       "<style scoped>\n",
       "    .dataframe tbody tr th:only-of-type {\n",
       "        vertical-align: middle;\n",
       "    }\n",
       "\n",
       "    .dataframe tbody tr th {\n",
       "        vertical-align: top;\n",
       "    }\n",
       "\n",
       "    .dataframe thead th {\n",
       "        text-align: right;\n",
       "    }\n",
       "</style>\n",
       "<table border=\"1\" class=\"dataframe\">\n",
       "  <thead>\n",
       "    <tr style=\"text-align: right;\">\n",
       "      <th></th>\n",
       "      <th>user_id</th>\n",
       "      <th>label</th>\n",
       "    </tr>\n",
       "  </thead>\n",
       "  <tbody>\n",
       "    <tr>\n",
       "      <th>0</th>\n",
       "      <td>57</td>\n",
       "      <td>0</td>\n",
       "    </tr>\n",
       "    <tr>\n",
       "      <th>1</th>\n",
       "      <td>58</td>\n",
       "      <td>0</td>\n",
       "    </tr>\n",
       "    <tr>\n",
       "      <th>2</th>\n",
       "      <td>59</td>\n",
       "      <td>0</td>\n",
       "    </tr>\n",
       "    <tr>\n",
       "      <th>3</th>\n",
       "      <td>60</td>\n",
       "      <td>0</td>\n",
       "    </tr>\n",
       "    <tr>\n",
       "      <th>4</th>\n",
       "      <td>61</td>\n",
       "      <td>0</td>\n",
       "    </tr>\n",
       "  </tbody>\n",
       "</table>\n",
       "</div>"
      ],
      "text/plain": [
       "   user_id  label\n",
       "0       57      0\n",
       "1       58      0\n",
       "2       59      0\n",
       "3       60      0\n",
       "4       61      0"
      ]
     },
     "execution_count": 12,
     "metadata": {},
     "output_type": "execute_result"
    }
   ],
   "source": [
    "submission = pd.read_csv('/kaggle/input/predict-potential-spammers-on-fiverr/sample_submission.csv')\n",
    "submission.head()"
   ]
  },
  {
   "cell_type": "code",
   "execution_count": 13,
   "id": "614abd92",
   "metadata": {
    "execution": {
     "iopub.execute_input": "2022-08-04T21:31:54.095710Z",
     "iopub.status.busy": "2022-08-04T21:31:54.095441Z",
     "iopub.status.idle": "2022-08-04T21:31:54.099567Z",
     "shell.execute_reply": "2022-08-04T21:31:54.099020Z"
    },
    "papermill": {
     "duration": 0.010561,
     "end_time": "2022-08-04T21:31:54.101145",
     "exception": false,
     "start_time": "2022-08-04T21:31:54.090584",
     "status": "completed"
    },
    "tags": []
   },
   "outputs": [],
   "source": [
    "submission.label = predictions\n",
    "submission.columns = ['user_id', 'prediction']"
   ]
  },
  {
   "cell_type": "code",
   "execution_count": 14,
   "id": "ed23e5af",
   "metadata": {
    "execution": {
     "iopub.execute_input": "2022-08-04T21:31:54.111250Z",
     "iopub.status.busy": "2022-08-04T21:31:54.110088Z",
     "iopub.status.idle": "2022-08-04T21:31:54.139634Z",
     "shell.execute_reply": "2022-08-04T21:31:54.138145Z"
    },
    "papermill": {
     "duration": 0.036369,
     "end_time": "2022-08-04T21:31:54.141636",
     "exception": false,
     "start_time": "2022-08-04T21:31:54.105267",
     "status": "completed"
    },
    "tags": []
   },
   "outputs": [],
   "source": [
    "submission.to_csv('submission.csv', index = False)"
   ]
  }
 ],
 "metadata": {
  "kernelspec": {
   "display_name": "Python 3",
   "language": "python",
   "name": "python3"
  },
  "language_info": {
   "codemirror_mode": {
    "name": "ipython",
    "version": 3
   },
   "file_extension": ".py",
   "mimetype": "text/x-python",
   "name": "python",
   "nbconvert_exporter": "python",
   "pygments_lexer": "ipython3",
   "version": "3.7.12"
  },
  "papermill": {
   "default_parameters": {},
   "duration": 217.190773,
   "end_time": "2022-08-04T21:31:54.764525",
   "environment_variables": {},
   "exception": null,
   "input_path": "__notebook__.ipynb",
   "output_path": "__notebook__.ipynb",
   "parameters": {},
   "start_time": "2022-08-04T21:28:17.573752",
   "version": "2.3.4"
  }
 },
 "nbformat": 4,
 "nbformat_minor": 5
}
